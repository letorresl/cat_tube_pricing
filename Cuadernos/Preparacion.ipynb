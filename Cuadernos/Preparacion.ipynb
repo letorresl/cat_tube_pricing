{
 "cells": [
  {
   "cell_type": "markdown",
   "metadata": {},
   "source": [
    "# Configuracion"
   ]
  },
  {
   "cell_type": "markdown",
   "metadata": {},
   "source": [
    "### Carga de librerias"
   ]
  },
  {
   "cell_type": "code",
   "execution_count": 1,
   "metadata": {
    "collapsed": true
   },
   "outputs": [],
   "source": [
    "from pandas import merge"
   ]
  },
  {
   "cell_type": "code",
   "execution_count": 52,
   "metadata": {
    "collapsed": false
   },
   "outputs": [],
   "source": [
    "from sklearn.preprocessing import label_binarize\n",
    "from pandas import DataFrame"
   ]
  },
  {
   "cell_type": "markdown",
   "metadata": {},
   "source": [
    "### Definicion de funciones"
   ]
  },
  {
   "cell_type": "code",
   "execution_count": 27,
   "metadata": {
    "collapsed": false
   },
   "outputs": [],
   "source": [
    "def integracion1(sets_df, train_o_envio = 'train'):\n",
    "    col_llave = 'tube_assembly_id'\n",
    "    df = merge(left = sets_df[train_o_envio], right = sets_df['bill'], how = 'left', on = col_llave)\n",
    "    df = merge(left = df, right = sets_df['tube'], how = 'left', on = col_llave)\n",
    "    return df"
   ]
  },
  {
   "cell_type": "code",
   "execution_count": 80,
   "metadata": {
    "collapsed": true
   },
   "outputs": [],
   "source": [
    "def limpieza2(df):\n",
    "    # limpieza de NaN's en las columnas de component_id_n\n",
    "    return df.dropna(axis = 0, how = 'all', subset = ['component_id_{}'.format(i) for i in range(1, 9)])"
   ]
  },
  {
   "cell_type": "code",
   "execution_count": 232,
   "metadata": {
    "collapsed": true
   },
   "outputs": [],
   "source": [
    "from IPython.core.debugger import Tracer\n",
    "trace = Tracer()"
   ]
  },
  {
   "cell_type": "code",
   "execution_count": 456,
   "metadata": {
    "collapsed": true
   },
   "outputs": [],
   "source": [
    "def integracion3(sets_df, df):\n",
    "    resultado = None\n",
    "    # Establecer las clases que tendra la vectorizacion\n",
    "    tipos_comp = sorted(sets_df['components'].component_type_id.unique())\n",
    "    # establecer los datos de los componentes\n",
    "    df_tipo_comp = sets_df['components'][['component_id', 'component_type_id']]\n",
    "    # Iterar para cada columna componente\n",
    "    for i in range(1, 9):\n",
    "        # la cantidad y componente correspondientes para la iteracion\n",
    "        cantidad, componente = 'quantity_{}'.format(str(i)), 'component_id_{}'.format(str(i))\n",
    "        # Agregar al df de entrenamiento la columna de \"tipo de componente\" para el componente_i\n",
    "        entrenamiento = df[[componente]].reset_index().dropna(axis= 0, how= 'all', subset= [componente])\n",
    "        no_vect = merge(left = entrenamiento, right = df_tipo_comp, how = 'left', left_on = componente,\n",
    "                        right_on = 'component_id', copy = False).set_index('index')\n",
    "        # Vectorizar el tipo de componente\n",
    "        vectorizacion = DataFrame(data= label_binarize(no_vect.component_type_id, classes=tipos),\n",
    "                                 index= no_vect.index, columns= tipos)\n",
    "        # Multiplicar la matriz de la vectorizacion por la cantidad solicitada\n",
    "        vectorizacion = vectorizacion.mul(df.loc[no_vect.index, cantidad], axis = 0)\n",
    "        # Sumar el producto a la la suma de las matrices de vectorizacion\n",
    "        #try:\n",
    "        #    resultado += vectorizacion\n",
    "        #except UnboundLocalError:\n",
    "        #    resultado = vectorizacion        \n",
    "        if resultado is not None:\n",
    "            resultado = resultado.add(vectorizacion, axis= 0, fill_value= 0)\n",
    "        else:\n",
    "            resultado = vectorizacion\n",
    "        #trace()\n",
    "    return resultado"
   ]
  },
  {
   "cell_type": "code",
   "execution_count": 521,
   "metadata": {
    "collapsed": true
   },
   "outputs": [],
   "source": [
    "def vectorizacion(df, nombCol, eliminarColOriginal = True):\n",
    "    # limpieza de renglones sin valores\n",
    "    df_temp = df[[nombCol]].reset_index().dropna(axis= 0, how= 'all', subset= [nombCol]).set_index('index')\n",
    "    # establecimiento de las clases de la variable nominal\n",
    "    clases = sorted(df_temp[nombCol].unique())\n",
    "    # creacion de la binarizacion estandar\n",
    "    array_binarizado = label_binarize(df_temp[nombCol], classes= clases)\n",
    "    # dataframe de la binarizacion respetando el indice\n",
    "    array_binarizado = DataFrame(data= array_binarizado, index= df_temp.index,\n",
    "                                 columns= ['{}__{}'.format(nombCol, str(clase)) for clase in clases])\n",
    "    if eliminarColOriginal:\n",
    "        df = df.drop(labels= nombCol, axis= 1)\n",
    "    return merge(left= df, right= array_binarizado, how= 'left', left_index= True,\n",
    "                 right_index= True, copy= False)"
   ]
  },
  {
   "cell_type": "markdown",
   "metadata": {
    "collapsed": true
   },
   "source": [
    "# Ejecucion de rutina"
   ]
  },
  {
   "cell_type": "code",
   "execution_count": 517,
   "metadata": {
    "collapsed": true
   },
   "outputs": [],
   "source": [
    "from Metadatos import generaPathProyecto\n",
    "from CargaDatos import retornaSets\n",
    "path_proyecto = generaPathProyecto()\n",
    "# sets_df = retornaSets(path_proyecto)\n",
    "df = integracion1(sets_df = sets_df)\n",
    "df = limpieza2(df)"
   ]
  },
  {
   "cell_type": "code",
   "execution_count": 518,
   "metadata": {
    "collapsed": false
   },
   "outputs": [],
   "source": [
    "df = merge(left= df, right= integracion3(sets_df= sets_df, df= df), how= 'left', left_index= True,\n",
    "           right_index= True, copy= False)"
   ]
  },
  {
   "cell_type": "code",
   "execution_count": 519,
   "metadata": {
    "collapsed": false
   },
   "outputs": [],
   "source": [
    "df.drop(labels= [u'component_id_1', u'quantity_1', u'component_id_2', u'quantity_2', \n",
    "                 u'component_id_3', u'quantity_3', u'component_id_4', u'quantity_4',\n",
    "                 u'component_id_5', u'quantity_5', u'component_id_6', u'quantity_6',\n",
    "                 u'component_id_7', u'quantity_7', u'component_id_8', u'quantity_8'],\n",
    "        axis= 1, inplace= True)"
   ]
  },
  {
   "cell_type": "code",
   "execution_count": 520,
   "metadata": {
    "collapsed": false
   },
   "outputs": [
    {
     "data": {
      "text/plain": [
       "Index([u'tube_assembly_id', u'supplier', u'quote_date', u'annual_usage',\n",
       "       u'min_order_quantity', u'bracket_pricing', u'quantity', u'cost',\n",
       "       u'material_id', u'diameter', u'wall', u'length', u'num_bends',\n",
       "       u'bend_radius', u'end_a_1x', u'end_a_2x', u'end_x_1x', u'end_x_2x',\n",
       "       u'end_a', u'end_x', u'num_boss', u'num_bracket', u'other', u'CP-001',\n",
       "       u'CP-002', u'CP-003', u'CP-004', u'CP-005', u'CP-006', u'CP-007',\n",
       "       u'CP-008', u'CP-009', u'CP-010', u'CP-011', u'CP-012', u'CP-014',\n",
       "       u'CP-015', u'CP-016', u'CP-017', u'CP-018', u'CP-019', u'CP-020',\n",
       "       u'CP-021', u'CP-022', u'CP-023', u'CP-024', u'CP-025', u'CP-026',\n",
       "       u'CP-027', u'CP-028', u'CP-029', u'OTHER'],\n",
       "      dtype='object')"
      ]
     },
     "execution_count": 520,
     "metadata": {},
     "output_type": "execute_result"
    }
   ],
   "source": [
    "df.columns"
   ]
  },
  {
   "cell_type": "code",
   "execution_count": 524,
   "metadata": {
    "collapsed": false
   },
   "outputs": [],
   "source": [
    "df = vectorizacion(df, 'supplier')\n",
    "df = vectorizacion(df, 'material_id')\n",
    "df = vectorizacion(df, 'end_a')\n",
    "df = vectorizacion(df, 'end_x')\n",
    "df = vectorizacion(df, 'other')"
   ]
  },
  {
   "cell_type": "code",
   "execution_count": 525,
   "metadata": {
    "collapsed": false
   },
   "outputs": [
    {
     "data": {
      "text/plain": [
       "(28751, 168)"
      ]
     },
     "execution_count": 525,
     "metadata": {},
     "output_type": "execute_result"
    }
   ],
   "source": [
    "df.shape"
   ]
  },
  {
   "cell_type": "code",
   "execution_count": 527,
   "metadata": {
    "collapsed": false
   },
   "outputs": [
    {
     "name": "stdout",
     "output_type": "stream",
     "text": [
      "tube_assembly_id\n",
      "quote_date\n",
      "annual_usage\n",
      "min_order_quantity\n",
      "bracket_pricing\n",
      "quantity\n",
      "cost\n",
      "diameter\n",
      "wall\n",
      "length\n",
      "num_bends\n",
      "bend_radius\n",
      "end_a_1x\n",
      "end_a_2x\n",
      "end_x_1x\n",
      "end_x_2x\n",
      "num_boss\n",
      "num_bracket\n",
      "CP-001\n",
      "CP-002\n",
      "CP-003\n",
      "CP-004\n",
      "CP-005\n",
      "CP-006\n",
      "CP-007\n",
      "CP-008\n",
      "CP-009\n",
      "CP-010\n",
      "CP-011\n",
      "CP-012\n",
      "CP-014\n",
      "CP-015\n",
      "CP-016\n",
      "CP-017\n",
      "CP-018\n",
      "CP-019\n",
      "CP-020\n",
      "CP-021\n",
      "CP-022\n",
      "CP-023\n",
      "CP-024\n",
      "CP-025\n",
      "CP-026\n",
      "CP-027\n",
      "CP-028\n",
      "CP-029\n",
      "OTHER\n",
      "supplier__S-0003\n",
      "supplier__S-0004\n",
      "supplier__S-0005\n",
      "supplier__S-0006\n",
      "supplier__S-0007\n",
      "supplier__S-0008\n",
      "supplier__S-0009\n",
      "supplier__S-0011\n",
      "supplier__S-0012\n",
      "supplier__S-0013\n",
      "supplier__S-0014\n",
      "supplier__S-0015\n",
      "supplier__S-0018\n",
      "supplier__S-0022\n",
      "supplier__S-0023\n",
      "supplier__S-0024\n",
      "supplier__S-0025\n",
      "supplier__S-0026\n",
      "supplier__S-0027\n",
      "supplier__S-0029\n",
      "supplier__S-0030\n",
      "supplier__S-0031\n",
      "supplier__S-0041\n",
      "supplier__S-0042\n",
      "supplier__S-0046\n",
      "supplier__S-0050\n",
      "supplier__S-0054\n",
      "supplier__S-0056\n",
      "supplier__S-0058\n",
      "supplier__S-0059\n",
      "supplier__S-0060\n",
      "supplier__S-0062\n",
      "supplier__S-0064\n",
      "supplier__S-0066\n",
      "supplier__S-0070\n",
      "supplier__S-0072\n",
      "supplier__S-0074\n",
      "supplier__S-0081\n",
      "supplier__S-0087\n",
      "supplier__S-0090\n",
      "supplier__S-0092\n",
      "supplier__S-0095\n",
      "supplier__S-0096\n",
      "supplier__S-0097\n",
      "supplier__S-0104\n",
      "supplier__S-0105\n",
      "supplier__S-0106\n",
      "supplier__S-0107\n",
      "supplier__S-0108\n",
      "supplier__S-0109\n",
      "supplier__S-0111\n",
      "material_id__SP-0008\n",
      "material_id__SP-0019\n",
      "material_id__SP-0028\n",
      "material_id__SP-0029\n",
      "material_id__SP-0030\n",
      "material_id__SP-0031\n",
      "material_id__SP-0032\n",
      "material_id__SP-0033\n",
      "material_id__SP-0034\n",
      "material_id__SP-0035\n",
      "material_id__SP-0036\n",
      "material_id__SP-0037\n",
      "material_id__SP-0038\n",
      "material_id__SP-0039\n",
      "material_id__SP-0041\n",
      "material_id__SP-0046\n",
      "material_id__SP-0048\n",
      "end_a__EF-001\n",
      "end_a__EF-002\n",
      "end_a__EF-003\n",
      "end_a__EF-004\n",
      "end_a__EF-005\n",
      "end_a__EF-007\n",
      "end_a__EF-008\n",
      "end_a__EF-009\n",
      "end_a__EF-010\n",
      "end_a__EF-012\n",
      "end_a__EF-014\n",
      "end_a__EF-015\n",
      "end_a__EF-016\n",
      "end_a__EF-017\n",
      "end_a__EF-018\n",
      "end_a__EF-019\n",
      "end_a__EF-020\n",
      "end_a__EF-021\n",
      "end_a__EF-022\n",
      "end_a__EF-023\n",
      "end_a__EF-025\n",
      "end_a__NONE\n",
      "end_x__9999\n",
      "end_x__EF-001\n",
      "end_x__EF-002\n",
      "end_x__EF-003\n",
      "end_x__EF-004\n",
      "end_x__EF-005\n",
      "end_x__EF-006\n",
      "end_x__EF-007\n",
      "end_x__EF-008\n",
      "end_x__EF-009\n",
      "end_x__EF-010\n",
      "end_x__EF-011\n",
      "end_x__EF-012\n",
      "end_x__EF-013\n",
      "end_x__EF-014\n",
      "end_x__EF-015\n",
      "end_x__EF-016\n",
      "end_x__EF-017\n",
      "end_x__EF-018\n",
      "end_x__EF-019\n",
      "end_x__EF-021\n",
      "end_x__EF-023\n",
      "end_x__NONE\n",
      "other__0\n",
      "other__1\n",
      "other__2\n",
      "other__3\n",
      "other__4\n",
      "other__5\n",
      "other__6\n",
      "other__8\n"
     ]
    }
   ],
   "source": [
    "for columna in df.columns:\n",
    "    print columna"
   ]
  }
 ],
 "metadata": {
  "kernelspec": {
   "display_name": "Python 2",
   "language": "python",
   "name": "python2"
  }
 },
 "nbformat": 4,
 "nbformat_minor": 0
}
