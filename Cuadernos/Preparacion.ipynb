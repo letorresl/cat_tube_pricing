{
 "cells": [
  {
   "cell_type": "markdown",
   "metadata": {},
   "source": [
    "# Configuracion"
   ]
  },
  {
   "cell_type": "markdown",
   "metadata": {},
   "source": [
    "### Carga de librerias"
   ]
  },
  {
   "cell_type": "code",
   "execution_count": 1,
   "metadata": {
    "collapsed": true
   },
   "outputs": [],
   "source": [
    "from pandas import merge, DataFrame, DatetimeIndex\n",
    "from numpy import floor\n",
    "from numpy.random import choice, seed\n",
    "from sklearn.preprocessing import label_binarize"
   ]
  },
  {
   "cell_type": "code",
   "execution_count": 2,
   "metadata": {
    "collapsed": true
   },
   "outputs": [],
   "source": [
    "from IPython.core.debugger import Tracer\n",
    "tracer = Tracer()"
   ]
  },
  {
   "cell_type": "markdown",
   "metadata": {},
   "source": [
    "### Definicion de funciones"
   ]
  },
  {
   "cell_type": "code",
   "execution_count": 3,
   "metadata": {
    "collapsed": true
   },
   "outputs": [],
   "source": [
    "def limpieza2(df):\n",
    "    # limpieza de NaN's en las columnas de component_id_n\n",
    "    #return df.dropna(axis = 0, how = 'all', subset = ['component_id_{}'.format(i) for i in range(1, 9)])\n",
    "    cols_componentes = ['component_id_{}'.format(i) for i in range(1, 9)]\n",
    "    df[cols_componentes] = df[cols_componentes].fillna('')\n",
    "    return df"
   ]
  },
  {
   "cell_type": "code",
   "execution_count": 59,
   "metadata": {
    "collapsed": false
   },
   "outputs": [],
   "source": [
    "class preparaDf:\n",
    "    def __init__(self):\n",
    "        self.matrices_vectorizadas = {}\n",
    "    \n",
    "    def integracion1(self, sets_df, train_o_envio = 'train'):\n",
    "        col_llave = 'tube_assembly_id'\n",
    "        df = merge(left = sets_df[train_o_envio], right = sets_df['bill'], how = 'left', on = col_llave)\n",
    "        df = merge(left = df, right = sets_df['tube'], how = 'left', on = col_llave)\n",
    "        return df\n",
    "\n",
    "\n",
    "    def integracion3(self, sets_df, df):\n",
    "        #tracer()\n",
    "        resultado = None\n",
    "        # Establecer las clases que tendra la vectorizacion\n",
    "        tipos_comp = sorted(sets_df['components'].component_type_id.unique())\n",
    "        # establecer los datos de los componentes\n",
    "        df_tipo_comp = sets_df['components'][['component_id', 'component_type_id']]\n",
    "        # Iterar para cada columna componente\n",
    "        for i in range(1, 9):\n",
    "            #if i == 2:\n",
    "                #tracer()\n",
    "            # la cantidad y componente correspondientes para la iteracion\n",
    "            cantidad, componente = 'quantity_{}'.format(str(i)), 'component_id_{}'.format(str(i))\n",
    "            # Agregar al df de entrenamiento la columna de \"tipo de componente\" para el componente_i\n",
    "            entrenamiento = df[[componente]].reset_index().dropna(axis= 0, how= 'all', subset= [componente])\n",
    "            no_vect = merge(left = entrenamiento, right = df_tipo_comp, how = 'left', left_on = componente,\n",
    "                            right_on = 'component_id', copy = False).set_index('index')\n",
    "            # Vectorizar el tipo de componente\n",
    "            # AQUI ESTA EL PROBLEMA -->\n",
    "            if no_vect.shape[0] != 0:\n",
    "                vectorizacion = DataFrame(data= label_binarize(no_vect.component_type_id, classes=tipos_comp),\n",
    "                                          index= no_vect.index,\n",
    "                                          columns= ['{}__{}'.format('components', comp_id) for comp_id in tipos_comp])\n",
    "                # Multiplicar la matriz de la vectorizacion por la cantidad solicitada\n",
    "                vectorizacion = vectorizacion.mul(df.loc[no_vect.index, cantidad], axis = 0)\n",
    "                # Sumar el producto a la la suma de las matrices de vectorizacion\n",
    "                #try:\n",
    "                #    resultado += vectorizacion\n",
    "                #except UnboundLocalError:\n",
    "                #    resultado = vectorizacion        \n",
    "                if resultado is not None:\n",
    "                    resultado = resultado.add(vectorizacion, axis= 0, fill_value= 0)\n",
    "                else:\n",
    "                    resultado = vectorizacion\n",
    "            #trace()\n",
    "        return resultado\n",
    "\n",
    "    def vectorizacion(self, df, nombCol, eliminarColOriginal = True, clases= None):\n",
    "        # limpieza de renglones sin valores\n",
    "        df_temp = df[[nombCol]].reset_index().dropna(axis= 0, how= 'all', subset= [nombCol]).set_index('index')\n",
    "        # establecimiento de las clases de la variable nominal\n",
    "        if clases is None:\n",
    "            clases = sorted(df_temp[nombCol].unique())\n",
    "            self.matrices_vectorizadas[nombCol] = clases\n",
    "        # creacion de la binarizacion estandar\n",
    "        array_binarizado = label_binarize(df_temp[nombCol], classes= clases)\n",
    "        # dataframe de la binarizacion respetando el indice\n",
    "        array_binarizado = DataFrame(data= array_binarizado, index= df_temp.index,\n",
    "                                     columns= ['{}__{}'.format(nombCol, str(clase)) for clase in clases])\n",
    "        if eliminarColOriginal:\n",
    "            df = df.drop(labels= nombCol, axis= 1)\n",
    "        return merge(left= df, right= array_binarizado, how= 'left', left_index= True,\n",
    "                     right_index= True, copy= False)\n",
    "\n",
    "    def reordenaCols(self, df):\n",
    "        columnas = df.columns\n",
    "        return df[sorted(columnas)]\n",
    "    \n",
    "    def vectSumaMultCol(self, df, lista_cols, nombre_base, eliminarColOriginal = True):\n",
    "        # Definir un df vacio para albergar el resultado de la vectorizacion\n",
    "        resultado = None\n",
    "        # Establecer las clases que tendra la vectorizacion\n",
    "        clases = set()\n",
    "        for columna in lista_cols:\n",
    "            clases = clases.union(set(df[columna].dropna(axis= 0)))\n",
    "        # Iterar para cada columna del conjunto que integran la vectorizacion suma\n",
    "        for columna in lista_cols:\n",
    "            # Seleccionar los datos con los cuales se conformara la vectorizacion\n",
    "            col_a_vectorizar = df[columna].dropna(axis= 0)\n",
    "            # Vectorizar la columna y agregarlo a la matriz de resultados\n",
    "            if col_a_vectorizar.shape[0] != 0:\n",
    "                vectorizacion = DataFrame(data= label_binarize(col_a_vectorizar, classes= list(clases)),\n",
    "                                          index= col_a_vectorizar.index,\n",
    "                                          columns= ['{}__{}'.format(nombre_base, clase) for clase in clases])      \n",
    "                if resultado is not None:\n",
    "                    resultado = resultado.add(vectorizacion, axis= 0, fill_value= 0)\n",
    "                else:\n",
    "                    resultado = vectorizacion\n",
    "        if eliminarColOriginal:\n",
    "                df = df.drop(labels= lista_cols, axis= 1)\n",
    "        #return merge(left= df, right= resultado, how= 'left', left_index= True,\n",
    "        #             right_index= True, copy= False)\n",
    "        return resultado\n",
    "    \n",
    "    def multipleUnionVectorizada(self, df_i, df_d, lista_conexion, l_col_llaves_i, llave_d,\n",
    "                                 prefijo_vectorizacion):\n",
    "        # Obtener las distintas clases en que se separara la matriz\n",
    "        clases = set()\n",
    "        for columna in lista_conexion:\n",
    "            clases = clases.union(set(df_d[columna].dropna(axis= 0)))\n",
    "        resultado = None\n",
    "        # Unir el dataframe df con 'specs' con la columna 'component_id' para \n",
    "        # cada col de 'df' 'component_id_#'\n",
    "        for col in l_col_llaves_i:\n",
    "            df_conn = merge(left= df_i, right= df_d[[llave_d] + lista_conexion], how= 'left',\n",
    "                            left_on= col, right_on= llave_d)\n",
    "            df_conn.index = df_i.index\n",
    "            # A partir de las 'connection_type_id_#' obtenidas de tal union, obtener la matriz vectorizacion de la variable\n",
    "            # connection.\n",
    "            m_vect = vectSumaMultCol(df_conn, lista_conexion, prefijo_vectorizacion, clases= clases)\n",
    "            # Almacenar la matriz vectorizacion tras agregarla a la matriz anterior\n",
    "            if resultado is not None:\n",
    "                if m_vect is not None:\n",
    "                    resultado = resultado.add(m_vect, axis= 0, fill_value= 0)\n",
    "            else:\n",
    "                resultado = m_vect\n",
    "        return resultado\n",
    "\n",
    "    def preparar(self, sets_df,  train_o_envio = 'train'):\n",
    "        df = self.integracion1(sets_df = sets_df,  train_o_envio =  train_o_envio)\n",
    "        df = merge(left= df, right= self.integracion3(sets_df= sets_df, df= df), how= 'left', left_index= True,\n",
    "                   right_index= True, copy= False)\n",
    "        df['year'] = DatetimeIndex(df.quote_date).year\n",
    "        df['month'] = DatetimeIndex(df.quote_date).month\n",
    "        df['day'] = DatetimeIndex(df.quote_date).day\n",
    "        ### experimentacion\n",
    "        prefijo_vectorizacion = 'connection_type_id'\n",
    "        lista_conexion = ['connection_type_id_{}'.format(i) for i in range(1, 5)]\n",
    "        l_col_llaves_i = ['component_id_{}'.format(i) for i in range(1, 9)]\n",
    "        llave_d = 'component_id'\n",
    "        v_connect = multipleUnionVectorizada(df_i= df, df_d= sets_df['specs'], lista_conexion= lista_conexion,\n",
    "                                             l_col_llaves_i= l_col_llaves_i, llave_d = llave_d,\n",
    "                                             prefijo_vectorizacion= prefijo_vectorizacion)\n",
    "        df = merge(left= df, right= v_connect, how= 'left', left_index= True,\n",
    "                   right_index= True, copy= False)\n",
    "        ## fin experimentacion\n",
    "        df = df.drop(labels= [u'component_id_1', u'quantity_1', u'component_id_2', u'quantity_2', \n",
    "                              u'component_id_3', u'quantity_3', u'component_id_4', u'quantity_4',\n",
    "                              u'component_id_5', u'quantity_5', u'component_id_6', u'quantity_6',\n",
    "                              u'component_id_7', u'quantity_7', u'component_id_8', u'quantity_8',\n",
    "                              u'tube_assembly_id',\n",
    "                              # IMPORTANTE: eliminar la fecha de la cotizacion es una medida temporal\n",
    "                              # PORHACER: transformar la variable fecha de cotizacion a una tipo\n",
    "                              # float (por ejemplo, una variable para year, otra para month, etc)\n",
    "                              u'quote_date'], axis= 1)\n",
    "        for columna in ['supplier', 'material_id', 'end_a', 'end_x', 'other']:\n",
    "            df = self.vectorizacion(df, columna, eliminarColOriginal = True,\n",
    "                                    clases= self.matrices_vectorizadas[columna] if train_o_envio == 'test' else None)\n",
    "        df = self.reordenaCols(df)\n",
    "        df = df.astype('float')\n",
    "        return df"
   ]
  },
  {
   "cell_type": "code",
   "execution_count": 5,
   "metadata": {
    "collapsed": true
   },
   "outputs": [],
   "source": [
    "def separacionEntrenaObjetivo(df, semilla, prop_prueba = 0.30):\n",
    "    seed(semilla)\n",
    "    # SEPARACION SETS ENTRENAMIENTO/PRUEBA\n",
    "    # permutacion de indices\n",
    "    if prop_prueba != 0:\n",
    "        tam_prueba = int(floor(df.shape[0] * prop_prueba))\n",
    "        indices_prueba = choice(a= df.index.values, size= tam_prueba, replace= False)\n",
    "        # Valores\n",
    "        X_train = df[~df.index.isin(indices_prueba)].drop(labels = ['cost'],\n",
    "                                                          axis = 1)\n",
    "        X_test = df[df.index.isin(indices_prueba)].drop(labels = ['cost'],\n",
    "                                                        axis = 1)\n",
    "        # resultados\n",
    "        y_train = df[~df.index.isin(indices_prueba)][['cost']]\n",
    "        y_test = df[df.index.isin(indices_prueba)][['cost']]\n",
    "    else:\n",
    "        # Valores\n",
    "        X_train = df.drop(labels = ['cost'], axis = 1)\n",
    "        X_test = None\n",
    "        # resultados\n",
    "        y_train = df[['cost']]\n",
    "        y_test = None\n",
    "    return X_train, X_test, y_train, y_test"
   ]
  },
  {
   "cell_type": "markdown",
   "metadata": {
    "collapsed": true
   },
   "source": [
    "# Ejecucion de rutina"
   ]
  },
  {
   "cell_type": "markdown",
   "metadata": {
    "collapsed": true
   },
   "source": [
    "from Metadatos import generaPathProyecto\n",
    "from CargaDatos import retornaSets\n",
    "path_proyecto = generaPathProyecto()\n",
    "sets_df = retornaSets(path_proyecto)"
   ]
  },
  {
   "cell_type": "markdown",
   "metadata": {
    "collapsed": true
   },
   "source": [
    "prepDf = preparaDf()\n",
    "df = prepDf.preparar(sets_df)"
   ]
  }
 ],
 "metadata": {
  "kernelspec": {
   "display_name": "Python 2",
   "language": "python",
   "name": "python2"
  },
  "language_info": {
   "codemirror_mode": {
    "name": "ipython",
    "version": 2
   },
   "file_extension": ".py",
   "mimetype": "text/x-python",
   "name": "python",
   "nbconvert_exporter": "python",
   "pygments_lexer": "ipython2",
   "version": "2.7.10"
  }
 },
 "nbformat": 4,
 "nbformat_minor": 0
}
