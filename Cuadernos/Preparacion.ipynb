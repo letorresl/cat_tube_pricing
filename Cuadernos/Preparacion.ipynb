{
 "cells": [
  {
   "cell_type": "markdown",
   "metadata": {},
   "source": [
    "# Configuracion"
   ]
  },
  {
   "cell_type": "markdown",
   "metadata": {},
   "source": [
    "### Carga de librerias"
   ]
  },
  {
   "cell_type": "code",
   "execution_count": 1,
   "metadata": {
    "collapsed": true
   },
   "outputs": [],
   "source": [
    "from pandas import merge"
   ]
  },
  {
   "cell_type": "code",
   "execution_count": 2,
   "metadata": {
    "collapsed": false
   },
   "outputs": [],
   "source": [
    "from sklearn.preprocessing import label_binarize\n",
    "from pandas import DataFrame"
   ]
  },
  {
   "cell_type": "markdown",
   "metadata": {},
   "source": [
    "### Definicion de funciones"
   ]
  },
  {
   "cell_type": "code",
   "execution_count": 3,
   "metadata": {
    "collapsed": false
   },
   "outputs": [],
   "source": [
    "def integracion1(sets_df, train_o_envio = 'train'):\n",
    "    col_llave = 'tube_assembly_id'\n",
    "    df = merge(left = sets_df[train_o_envio], right = sets_df['bill'], how = 'left', on = col_llave)\n",
    "    df = merge(left = df, right = sets_df['tube'], how = 'left', on = col_llave)\n",
    "    return df"
   ]
  },
  {
   "cell_type": "code",
   "execution_count": 4,
   "metadata": {
    "collapsed": true
   },
   "outputs": [],
   "source": [
    "def limpieza2(df):\n",
    "    # limpieza de NaN's en las columnas de component_id_n\n",
    "    return df.dropna(axis = 0, how = 'all', subset = ['component_id_{}'.format(i) for i in range(1, 9)])"
   ]
  },
  {
   "cell_type": "code",
   "execution_count": 5,
   "metadata": {
    "collapsed": true
   },
   "outputs": [],
   "source": [
    "from IPython.core.debugger import Tracer\n",
    "trace = Tracer()"
   ]
  },
  {
   "cell_type": "code",
   "execution_count": 13,
   "metadata": {
    "collapsed": true
   },
   "outputs": [],
   "source": [
    "def integracion3(sets_df, df):\n",
    "    resultado = None\n",
    "    # Establecer las clases que tendra la vectorizacion\n",
    "    tipos_comp = sorted(sets_df['components'].component_type_id.unique())\n",
    "    # establecer los datos de los componentes\n",
    "    df_tipo_comp = sets_df['components'][['component_id', 'component_type_id']]\n",
    "    # Iterar para cada columna componente\n",
    "    for i in range(1, 9):\n",
    "        # la cantidad y componente correspondientes para la iteracion\n",
    "        cantidad, componente = 'quantity_{}'.format(str(i)), 'component_id_{}'.format(str(i))\n",
    "        # Agregar al df de entrenamiento la columna de \"tipo de componente\" para el componente_i\n",
    "        entrenamiento = df[[componente]].reset_index().dropna(axis= 0, how= 'all', subset= [componente])\n",
    "        no_vect = merge(left = entrenamiento, right = df_tipo_comp, how = 'left', left_on = componente,\n",
    "                        right_on = 'component_id', copy = False).set_index('index')\n",
    "        # Vectorizar el tipo de componente\n",
    "        vectorizacion = DataFrame(data= label_binarize(no_vect.component_type_id, classes=tipos_comp),\n",
    "                                  index= no_vect.index,\n",
    "                                  columns= ['{}__{}'.format('components', comp_id) for comp_id in tipos_comp])\n",
    "        # Multiplicar la matriz de la vectorizacion por la cantidad solicitada\n",
    "        vectorizacion = vectorizacion.mul(df.loc[no_vect.index, cantidad], axis = 0)\n",
    "        # Sumar el producto a la la suma de las matrices de vectorizacion\n",
    "        #try:\n",
    "        #    resultado += vectorizacion\n",
    "        #except UnboundLocalError:\n",
    "        #    resultado = vectorizacion        \n",
    "        if resultado is not None:\n",
    "            resultado = resultado.add(vectorizacion, axis= 0, fill_value= 0)\n",
    "        else:\n",
    "            resultado = vectorizacion\n",
    "        #trace()\n",
    "    return resultado"
   ]
  },
  {
   "cell_type": "code",
   "execution_count": 7,
   "metadata": {
    "collapsed": true
   },
   "outputs": [],
   "source": [
    "def vectorizacion(df, nombCol, eliminarColOriginal = True):\n",
    "    # limpieza de renglones sin valores\n",
    "    df_temp = df[[nombCol]].reset_index().dropna(axis= 0, how= 'all', subset= [nombCol]).set_index('index')\n",
    "    # establecimiento de las clases de la variable nominal\n",
    "    clases = sorted(df_temp[nombCol].unique())\n",
    "    # creacion de la binarizacion estandar\n",
    "    array_binarizado = label_binarize(df_temp[nombCol], classes= clases)\n",
    "    # dataframe de la binarizacion respetando el indice\n",
    "    array_binarizado = DataFrame(data= array_binarizado, index= df_temp.index,\n",
    "                                 columns= ['{}__{}'.format(nombCol, str(clase)) for clase in clases])\n",
    "    if eliminarColOriginal:\n",
    "        df = df.drop(labels= nombCol, axis= 1)\n",
    "    return merge(left= df, right= array_binarizado, how= 'left', left_index= True,\n",
    "                 right_index= True, copy= False)"
   ]
  },
  {
   "cell_type": "markdown",
   "metadata": {
    "collapsed": true
   },
   "source": [
    "# Ejecucion de rutina"
   ]
  },
  {
   "cell_type": "code",
   "execution_count": 9,
   "metadata": {
    "collapsed": false
   },
   "outputs": [],
   "source": [
    "from Metadatos import generaPathProyecto\n",
    "from CargaDatos import retornaSets\n",
    "path_proyecto = generaPathProyecto()\n",
    "sets_df = retornaSets(path_proyecto)\n",
    "df = integracion1(sets_df = sets_df)\n",
    "df = limpieza2(df)"
   ]
  },
  {
   "cell_type": "code",
   "execution_count": 14,
   "metadata": {
    "collapsed": false
   },
   "outputs": [],
   "source": [
    "df = merge(left= df, right= integracion3(sets_df= sets_df, df= df), how= 'left', left_index= True,\n",
    "           right_index= True, copy= False)"
   ]
  },
  {
   "cell_type": "code",
   "execution_count": 18,
   "metadata": {
    "collapsed": false
   },
   "outputs": [],
   "source": [
    "df.drop(labels= [u'component_id_1', u'quantity_1', u'component_id_2', u'quantity_2', \n",
    "                 u'component_id_3', u'quantity_3', u'component_id_4', u'quantity_4',\n",
    "                 u'component_id_5', u'quantity_5', u'component_id_6', u'quantity_6',\n",
    "                 u'component_id_7', u'quantity_7', u'component_id_8', u'quantity_8',\n",
    "                 u'tube_assembly_id'],\n",
    "        axis= 1, inplace= True)"
   ]
  },
  {
   "cell_type": "code",
   "execution_count": 20,
   "metadata": {
    "collapsed": false
   },
   "outputs": [],
   "source": [
    "df = vectorizacion(df, 'supplier')\n",
    "df = vectorizacion(df, 'material_id')\n",
    "df = vectorizacion(df, 'end_a')\n",
    "df = vectorizacion(df, 'end_x')\n",
    "df = vectorizacion(df, 'other')"
   ]
  }
 ],
 "metadata": {
  "kernelspec": {
   "display_name": "Python 2",
   "language": "python",
   "name": "python2"
  },
  "language_info": {
   "codemirror_mode": {
    "name": "ipython",
    "version": 2
   },
   "file_extension": ".py",
   "mimetype": "text/x-python",
   "name": "python",
   "nbconvert_exporter": "python",
   "pygments_lexer": "ipython2",
   "version": "2.7.10"
  }
 },
 "nbformat": 4,
 "nbformat_minor": 0
}
