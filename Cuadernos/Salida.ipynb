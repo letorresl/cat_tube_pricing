{
 "cells": [
  {
   "cell_type": "markdown",
   "metadata": {},
   "source": [
    "# Configuracion"
   ]
  },
  {
   "cell_type": "markdown",
   "metadata": {},
   "source": [
    "## Carga de librerias"
   ]
  },
  {
   "cell_type": "code",
   "execution_count": 1,
   "metadata": {
    "collapsed": true
   },
   "outputs": [],
   "source": [
    "from pandas import DataFrame"
   ]
  },
  {
   "cell_type": "code",
   "execution_count": null,
   "metadata": {
    "collapsed": true
   },
   "outputs": [],
   "source": [
    "from datetime import datetime\n",
    "from os.path import join\n",
    "from sklearn.externals.joblib import dump"
   ]
  },
  {
   "cell_type": "code",
   "execution_count": 2,
   "metadata": {
    "collapsed": true
   },
   "outputs": [],
   "source": [
    "from Metadatos import generaPathProyecto, antilogTransf"
   ]
  },
  {
   "cell_type": "markdown",
   "metadata": {},
   "source": [
    "## Definicion de funciones"
   ]
  },
  {
   "cell_type": "code",
   "execution_count": null,
   "metadata": {
    "collapsed": true
   },
   "outputs": [],
   "source": [
    "def guardarDf(dataFrame, nombreArchivo = None, guardarIndice = False):\n",
    "    stringHora = datetime.today().strftime('%Y%m%d_%H%M%S')\n",
    "    if nombreArchivo is None:\n",
    "        nombreArchivo = 'df_'\n",
    "    pathGuardado = join(generaPathProyecto(), 'Bases',\n",
    "                        'Locales', str(nombreArchivo + '_' + stringHora + '.txt'))\n",
    "    dataFrame.to_csv(path_or_buf = pathGuardado, index = guardarIndice)"
   ]
  },
  {
   "cell_type": "code",
   "execution_count": null,
   "metadata": {
    "collapsed": true
   },
   "outputs": [],
   "source": [
    "def generarY(modelo, X_train, X_test):\n",
    "    conteo = 0\n",
    "    datos = ['train', 'test']\n",
    "    for X in [X_train, X_test]:\n",
    "        y_estimado = modelo.predict(X.values)\n",
    "        y_estimado = antilogTransf(y_estimado)\n",
    "        y_estimado = DataFrame(data= y_estimado, index= X.index, columns= ['cost'])\n",
    "        y_estimado.index.name = 'id'\n",
    "        guardarDf(y_envio, 'y_' + datos[conteo], True)\n",
    "        conteo += 1"
   ]
  },
  {
   "cell_type": "code",
   "execution_count": null,
   "metadata": {
    "collapsed": true
   },
   "outputs": [],
   "source": [
    "def generarEnvio(modelo, X_envio):\n",
    "    y_envio = modelo.predict(X_envio.values)\n",
    "    y_envio = antilogTransf(y_envio)\n",
    "    y_envio = DataFrame(data= y_envio, index= range(1,y_envio.shape[0] + 1), columns= ['cost'])\n",
    "    y_envio.index.name = 'id'\n",
    "    guardarDf(y_envio, 'y_envio', True)"
   ]
  },
  {
   "cell_type": "code",
   "execution_count": null,
   "metadata": {
    "collapsed": true
   },
   "outputs": [],
   "source": [
    "# Funcion para almacenar el avance en el dataframe\n",
    "def guardarModelo(varModelo, path_proyecto, nombreArchivo = None):\n",
    "    stringHora = datetime.today().strftime('%Y%m%d_%H%M%S')\n",
    "    if nombreArchivo is None:\n",
    "        nombreArchivo = 'modelo_'\n",
    "    pathGuardado = join(path_proyecto, 'Bases', 'Locales', 'Modelos', \n",
    "                                str(nombreArchivo + stringHora + '.txt'))\n",
    "    dump(value = varModelo, filename = pathGuardado)"
   ]
  },
  {
   "cell_type": "code",
   "execution_count": null,
   "metadata": {
    "collapsed": true
   },
   "outputs": [],
   "source": [
    "# Funcion para almacenar el avance en el dataframe\n",
    "def guardarModelo(varModelo, path_proyecto, nombreArchivo = None):\n",
    "    stringHora = datetime.today().strftime('%Y%m%d_%H%M%S')\n",
    "    if nombreArchivo is None:\n",
    "        nombreArchivo = 'modelo_'\n",
    "    pathGuardado = join(path_proyecto, 'Bases', 'Locales', 'Modelos', \n",
    "                                str(nombreArchivo + stringHora + '.txt'))\n",
    "    dump(value = varModelo, filename = pathGuardado)"
   ]
  },
  {
   "cell_type": "markdown",
   "metadata": {},
   "source": [
    "# Ejecucion de rutina"
   ]
  }
 ],
 "metadata": {
  "kernelspec": {
   "display_name": "Python 2",
   "language": "python",
   "name": "python2"
  },
  "language_info": {
   "codemirror_mode": {
    "name": "ipython",
    "version": 2
   },
   "file_extension": ".py",
   "mimetype": "text/x-python",
   "name": "python",
   "nbconvert_exporter": "python",
   "pygments_lexer": "ipython2",
   "version": "2.7.10"
  }
 },
 "nbformat": 4,
 "nbformat_minor": 0
}
