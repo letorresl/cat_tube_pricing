{
 "cells": [
  {
   "cell_type": "markdown",
   "metadata": {},
   "source": [
    "# Configuracion"
   ]
  },
  {
   "cell_type": "markdown",
   "metadata": {},
   "source": [
    "## Carga de librerias"
   ]
  },
  {
   "cell_type": "code",
   "execution_count": 1,
   "metadata": {
    "collapsed": true
   },
   "outputs": [],
   "source": [
    "from pandas import DataFrame"
   ]
  },
  {
   "cell_type": "code",
   "execution_count": null,
   "metadata": {
    "collapsed": true
   },
   "outputs": [],
   "source": [
    "from datetime import datetime\n",
    "from os.path import join"
   ]
  },
  {
   "cell_type": "code",
   "execution_count": 2,
   "metadata": {
    "collapsed": true
   },
   "outputs": [],
   "source": [
    "from Metadatos import generaPathProyecto"
   ]
  },
  {
   "cell_type": "markdown",
   "metadata": {},
   "source": [
    "## Definicion de funciones"
   ]
  },
  {
   "cell_type": "code",
   "execution_count": null,
   "metadata": {
    "collapsed": true
   },
   "outputs": [],
   "source": [
    "def generarEnvio(modelo, X_envio):\n",
    "    y_envio = modelo.predict(X_envio.values)\n",
    "    y_envio = DataFrame(data= y_envio, index= range(1,y_envio.shape[0] + 1), columns= ['cost'])\n",
    "    y_envio.index.name = 'id'\n",
    "    guardarDf(y_envio, 'y_envio', True)"
   ]
  },
  {
   "cell_type": "code",
   "execution_count": null,
   "metadata": {
    "collapsed": true
   },
   "outputs": [],
   "source": [
    "def guardarDf(dataFrame, nombreArchivo = None, guardarIndice = False):\n",
    "    stringHora = datetime.today().strftime('%Y%m%d_%H%M%S')\n",
    "    if nombreArchivo is None:\n",
    "        nombreArchivo = 'df_'\n",
    "    pathGuardado = join(generaPathProyecto(), 'Bases',\n",
    "                        'Locales', str(nombreArchivo + '_' + stringHora + '.txt'))\n",
    "    dataFrame.to_csv(path_or_buf = pathGuardado, index = guardarIndice)"
   ]
  },
  {
   "cell_type": "markdown",
   "metadata": {},
   "source": [
    "# Ejecucion de rutina"
   ]
  }
 ],
 "metadata": {
  "kernelspec": {
   "display_name": "Python 2",
   "language": "python",
   "name": "python2"
  },
  "language_info": {
   "codemirror_mode": {
    "name": "ipython",
    "version": 2
   },
   "file_extension": ".py",
   "mimetype": "text/x-python",
   "name": "python",
   "nbconvert_exporter": "python",
   "pygments_lexer": "ipython2",
   "version": "2.7.10"
  }
 },
 "nbformat": 4,
 "nbformat_minor": 0
}
