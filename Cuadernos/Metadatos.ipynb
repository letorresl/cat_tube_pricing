{
 "cells": [
  {
   "cell_type": "markdown",
   "metadata": {},
   "source": [
    "# Configuracion"
   ]
  },
  {
   "cell_type": "markdown",
   "metadata": {},
   "source": [
    "### Carga de librerias"
   ]
  },
  {
   "cell_type": "code",
   "execution_count": null,
   "metadata": {
    "collapsed": true
   },
   "outputs": [],
   "source": [
    "from os.path import join, realpath, curdir, isfile\n",
    "from os import listdir\n",
    "from datetime import datetime\n",
    "from regex import compile as comp"
   ]
  },
  {
   "cell_type": "code",
   "execution_count": null,
   "metadata": {
    "collapsed": true
   },
   "outputs": [],
   "source": [
    "from sklearn.metrics import mean_squared_error"
   ]
  },
  {
   "cell_type": "code",
   "execution_count": 1,
   "metadata": {
    "collapsed": true
   },
   "outputs": [],
   "source": [
    "from numpy import log, exp"
   ]
  },
  {
   "cell_type": "markdown",
   "metadata": {},
   "source": [
    "### Definicion de funciones"
   ]
  },
  {
   "cell_type": "code",
   "execution_count": null,
   "metadata": {
    "collapsed": true
   },
   "outputs": [],
   "source": [
    "def RMSLE(y, y_pred):\n",
    "    return mean_squared_error(log(y + 1), log(y_pred + 1))**0.5"
   ]
  },
  {
   "cell_type": "code",
   "execution_count": null,
   "metadata": {
    "collapsed": true
   },
   "outputs": [],
   "source": [
    "def buscarMasReciente(path_busqueda, nombre):\n",
    "    # definir lista de archivos coincidentes\n",
    "    coincidentes = []\n",
    "    # definir el patron de busqueda\n",
    "    patronFecha = comp(str(nombre + '[0-9]{8}_[0-9]{6}\\.txt'))\n",
    "    patronInstante = comp('[0-9]{8}_[0-9]{6}')\n",
    "    # iterar sobre los archivos en el path\n",
    "    for nombre_archivo in listdir(path_busqueda):\n",
    "        # descartar los nombres que sean directorios\n",
    "        if not isfile(join(path_busqueda, nombre_archivo)):\n",
    "            continue\n",
    "        # comprobar si el archivo coincide con el patron de busqueda\n",
    "        if patronFecha.match(nombre_archivo) is not None:\n",
    "            # almacenar en una lista el instante de tiempo marcado en el nombre del archivo\n",
    "            instante = patronInstante.search(nombre_archivo).group()\n",
    "            coincidentes.append(datetime.strptime(instante, '%Y%m%d_%H%M%S'))\n",
    "    # obtener el maximo instante de tiempo de tiempo de la lista\n",
    "    instante_max = max(coincidentes)\n",
    "    return str(nombre + instante_max.strftime('%Y%m%d_%H%M%S') + '.txt')"
   ]
  },
  {
   "cell_type": "code",
   "execution_count": null,
   "metadata": {
    "collapsed": true
   },
   "outputs": [],
   "source": [
    "def generaPathProyecto():\n",
    "    path_proyecto = join(realpath(curdir), '..')\n",
    "    return path_proyecto.split('Cuadernos')[0]"
   ]
  },
  {
   "cell_type": "code",
   "execution_count": null,
   "metadata": {
    "collapsed": true
   },
   "outputs": [],
   "source": [
    "def logTransf(df):\n",
    "    return log(df + 1)"
   ]
  },
  {
   "cell_type": "code",
   "execution_count": null,
   "metadata": {
    "collapsed": true
   },
   "outputs": [],
   "source": [
    "def antilogTransf(df):\n",
    "    return exp(df) - 1"
   ]
  },
  {
   "cell_type": "markdown",
   "metadata": {},
   "source": [
    "# Ejecucion de rutina"
   ]
  }
 ],
 "metadata": {
  "kernelspec": {
   "display_name": "Python 2",
   "language": "python",
   "name": "python2"
  },
  "language_info": {
   "codemirror_mode": {
    "name": "ipython",
    "version": 2
   },
   "file_extension": ".py",
   "mimetype": "text/x-python",
   "name": "python",
   "nbconvert_exporter": "python",
   "pygments_lexer": "ipython2",
   "version": "2.7.10"
  }
 },
 "nbformat": 4,
 "nbformat_minor": 0
}
