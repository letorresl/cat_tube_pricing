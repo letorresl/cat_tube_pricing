{
 "cells": [
  {
   "cell_type": "markdown",
   "metadata": {},
   "source": [
    "# Configuracion"
   ]
  },
  {
   "cell_type": "markdown",
   "metadata": {},
   "source": [
    "## Carga de librerias"
   ]
  },
  {
   "cell_type": "code",
   "execution_count": null,
   "metadata": {
    "collapsed": true
   },
   "outputs": [],
   "source": [
    "from sklearn.metrics import make_scorer\n",
    "from sklearn.preprocessing import Imputer\n",
    "from sklearn.preprocessing import StandardScaler\n",
    "from sklearn.tree import DecisionTreeRegressor\n",
    "from sklearn.pipeline import Pipeline\n",
    "from sklearn.grid_search import GridSearchCV"
   ]
  },
  {
   "cell_type": "markdown",
   "metadata": {},
   "source": [
    "## Definicion de funciones"
   ]
  },
  {
   "cell_type": "code",
   "execution_count": null,
   "metadata": {
    "collapsed": true
   },
   "outputs": [],
   "source": [
    "hsMed = make_scorer(hsMedio, greater_is_better=False)\n",
    "# Definicion del proceso del modelo\n",
    "\n",
    "imputador = Imputer()\n",
    "escalador = StandardScaler()\n",
    "#selectorVar = SelectKBest(k = 30)\n",
    "#decisor = GradientBoostingClassifier()\n",
    "#decisor = LogisticRegression()\n",
    "decisor = RandomForestRegressor(random_state = 1962)\n",
    "puntuador = hsMed\n",
    "tuberia = Pipeline(steps = [('imputador', imputador), ('escalador', escalador),\n",
    "                            ('decisor', decisor)])\n",
    "# Definicion de parametros a ajustar en gridsearch\n",
    "parametros_tuberia = {'decisor__n_estimators' : [15, 20, 30],\n",
    "                     'decisor__min_samples_split' : [1, 2, 4, 8, 16],\n",
    "                     'decisor__min_samples_leaf' : [1, 2, 4, 8 , 16]}\n",
    "# Instanciacion de rejilla\n",
    "modelo = GridSearchCV(estimator = tuberia,\n",
    "                      param_grid = parametros_tuberia,\n",
    "                      scoring = puntuador,\n",
    "                      n_jobs = -1)\n",
    "# Ajuste de rejilla\n",
    "modelo.fit(X = X_train.values, y = y_train.values)"
   ]
  },
  {
   "cell_type": "markdown",
   "metadata": {},
   "source": [
    "# Ejecucion de rutina"
   ]
  }
 ],
 "metadata": {
  "kernelspec": {
   "display_name": "Python 2",
   "language": "python",
   "name": "python2"
  },
  "language_info": {
   "codemirror_mode": {
    "name": "ipython",
    "version": 2
   },
   "file_extension": ".py",
   "mimetype": "text/x-python",
   "name": "python",
   "nbconvert_exporter": "python",
   "pygments_lexer": "ipython2",
   "version": "2.7.10"
  }
 },
 "nbformat": 4,
 "nbformat_minor": 0
}
