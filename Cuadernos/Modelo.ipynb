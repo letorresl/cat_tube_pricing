{
 "cells": [
  {
   "cell_type": "markdown",
   "metadata": {},
   "source": [
    "# Configuracion"
   ]
  },
  {
   "cell_type": "markdown",
   "metadata": {},
   "source": [
    "## Carga de librerias"
   ]
  },
  {
   "cell_type": "code",
   "execution_count": 5,
   "metadata": {
    "collapsed": true
   },
   "outputs": [],
   "source": [
    "from numpy import log, seed\n",
    "from sklearn.metrics import make_scorer, mean_squared_error\n",
    "from sklearn.preprocessing import Imputer, StandardScaler\n",
    "from sklearn.tree import DecisionTreeRegressor\n",
    "from sklearn.pipeline import Pipeline\n",
    "from sklearn.grid_search import GridSearchCV"
   ]
  },
  {
   "cell_type": "markdown",
   "metadata": {},
   "source": [
    "## Definicion de funciones"
   ]
  },
  {
   "cell_type": "code",
   "execution_count": 2,
   "metadata": {
    "collapsed": true
   },
   "outputs": [],
   "source": [
    "def RMSLE(y, y_pred):\n",
    "    return mean_squared_error(log(y + 1), log(y_pred + 1))**0.5"
   ]
  },
  {
   "cell_type": "code",
   "execution_count": null,
   "metadata": {
    "collapsed": true
   },
   "outputs": [],
   "source": [
    "def definirModelo(X, y, num_procesos = -1):\n",
    "    seed(1989)\n",
    "    imputador = Imputer()\n",
    "    escalador = StandardScaler()\n",
    "    #selectorVar = SelectKBest(k = 30)\n",
    "    decisor = DecisionTreeRegressor(random_state = 1962)\n",
    "    puntuador = RMSLE\n",
    "    tuberia = Pipeline(steps = [('imputador', imputador), ('escalador', escalador),\n",
    "                                ('decisor', decisor)])\n",
    "    # Definicion de parametros a ajustar en gridsearch\n",
    "    parametros_tuberia = {'decisor__min_samples_split' : [1, 2, 4, 8, 16],\n",
    "                          'decisor__min_samples_leaf' : [1, 2, 4, 8 , 16]}\n",
    "    # Instanciacion de rejilla\n",
    "    modelo = GridSearchCV(estimator = tuberia,\n",
    "                          param_grid = parametros_tuberia,\n",
    "                          scoring = puntuador,\n",
    "                          n_jobs = num_procesos)\n",
    "    # Ajuste de rejilla\n",
    "    return modelo.fit(X = X, y = y)"
   ]
  },
  {
   "cell_type": "markdown",
   "metadata": {},
   "source": [
    "# Ejecucion de rutina"
   ]
  }
 ],
 "metadata": {
  "kernelspec": {
   "display_name": "Python 2",
   "language": "python",
   "name": "python2"
  },
  "language_info": {
   "codemirror_mode": {
    "name": "ipython",
    "version": 2
   },
   "file_extension": ".py",
   "mimetype": "text/x-python",
   "name": "python",
   "nbconvert_exporter": "python",
   "pygments_lexer": "ipython2",
   "version": "2.7.10"
  }
 },
 "nbformat": 4,
 "nbformat_minor": 0
}
