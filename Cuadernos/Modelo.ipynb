{
 "cells": [
  {
   "cell_type": "markdown",
   "metadata": {},
   "source": [
    "# Configuracion"
   ]
  },
  {
   "cell_type": "markdown",
   "metadata": {},
   "source": [
    "## Carga de librerias"
   ]
  },
  {
   "cell_type": "code",
   "execution_count": 1,
   "metadata": {
    "collapsed": true
   },
   "outputs": [],
   "source": [
    "from numpy.random import seed\n",
    "from sklearn.metrics import make_scorer\n",
    "from sklearn.preprocessing import Imputer, StandardScaler\n",
    "from sklearn.ensemble import GradientBoostingRegressor\n",
    "from sklearn.pipeline import Pipeline\n",
    "from sklearn.grid_search import GridSearchCV"
   ]
  },
  {
   "cell_type": "code",
   "execution_count": 2,
   "metadata": {
    "collapsed": true
   },
   "outputs": [],
   "source": [
    "from Metadatos import RMSLE"
   ]
  },
  {
   "cell_type": "code",
   "execution_count": 3,
   "metadata": {
    "collapsed": true
   },
   "outputs": [],
   "source": [
    "from numpy import power, log1p, expm1\n",
    "from sklearn.base import BaseEstimator\n",
    "import xgboost as xgb"
   ]
  },
  {
   "cell_type": "markdown",
   "metadata": {},
   "source": [
    "## Definicion de funciones"
   ]
  },
  {
   "cell_type": "code",
   "execution_count": 4,
   "metadata": {
    "collapsed": true
   },
   "outputs": [],
   "source": [
    "class WichoregressorMixin(object):\n",
    "\n",
    "    def score(self, X, y, sample_weight=None):\n",
    "        \"\"\"\n",
    "        Parameters\n",
    "        ----------\n",
    "        X : array-like, shape = (n_samples, n_features)\n",
    "            Test samples.\n",
    "        y : array-like, shape = (n_samples) or (n_samples, n_outputs)\n",
    "            True values for X.\n",
    "        sample_weight : array-like, shape = [n_samples], optional\n",
    "            Sample weights.\n",
    "        Returns\n",
    "        -------\n",
    "        RMSLE\n",
    "        \"\"\"\n",
    "        \n",
    "        RMSLE_score = make_scorer(RMSLE, greater_is_better=False)\n",
    "\n",
    "        return RMSLE_score(y, self.predict(X), sample_weight=sample_weight)"
   ]
  },
  {
   "cell_type": "code",
   "execution_count": 5,
   "metadata": {
    "collapsed": false
   },
   "outputs": [],
   "source": [
    "class XgboostRegressor(BaseEstimator, WichoregressorMixin):\n",
    "    \"\"\"Predicts the majority class of its training data.\"\"\"\n",
    "    \n",
    "    def __init__(self,\n",
    "                 objective= 'reg:linear',\n",
    "                 eta= 0.02,\n",
    "                 min_child_weight= 6,\n",
    "                 subsample= 0.7,\n",
    "                 colsample_bytree= 0.6,\n",
    "                 scale_pos_weight= 0.8,\n",
    "                 silent= 1,\n",
    "                 max_depth= 8,\n",
    "                 max_delta_step= 2,\n",
    "                 nthread= 1):\n",
    "        \n",
    "        self.objective = objective\n",
    "        self.eta = eta\n",
    "        self.min_child_weight = min_child_weight\n",
    "        self.subsample = subsample\n",
    "        self.colsample_bytree = colsample_bytree\n",
    "        self.scale_pos_weight = scale_pos_weight\n",
    "        self.silent = silent\n",
    "        self.max_depth = max_depth\n",
    "        self.max_delta_step = max_delta_step\n",
    "        self.nthread = nthread\n",
    "        self.modelos = []\n",
    "\n",
    "        \n",
    "    def fit(self, X, y):\n",
    "        params = {}\n",
    "        modelos = []\n",
    "        \n",
    "        params[\"objective\"] = self.objective\n",
    "        params[\"eta\"] = self.eta\n",
    "        params[\"min_child_weight\"] = self.min_child_weight\n",
    "        params[\"subsample\"] = self.subsample\n",
    "        params[\"colsample_bytree\"] = self.colsample_bytree\n",
    "        params[\"scale_pos_weight\"] = self.scale_pos_weight\n",
    "        params[\"silent\"] = self.silent\n",
    "        params[\"max_depth\"] = self.max_depth\n",
    "        params[\"max_delta_step\"]= self.max_delta_step\n",
    "        plst = list(params.items())\n",
    "        \n",
    "        labels = log1p(y)\n",
    "        xgX = xgb.DMatrix(X, label=labels)\n",
    "        for num_rounds in [2000, 3000, 4000]:\n",
    "            modelos.append(xgb.train(plst, xgX, num_rounds))\n",
    "        \n",
    "        labels = power(y, 1.0/16.0)\n",
    "        xgX = xgb.DMatrix(X, label=labels)\n",
    "        num_rounds = 4000        \n",
    "        modelos.append(xgb.train(plst, xgX, num_rounds))\n",
    "        \n",
    "        self.modelos = modelos\n",
    "        \n",
    "        return self\n",
    "    \n",
    "    \n",
    "    def predict(self, X):\n",
    "        xgX = xgb.DMatrix(X)\n",
    "        \n",
    "        preds1 = self.modelos[0].predict(xgX)\n",
    "        preds2 = self.modelos[1].predict(xgX)\n",
    "        preds3 = self.modelos[2].predict(xgX)\n",
    "        preds4 = self.modelos[3].predict(xgX)\n",
    "        preds = (0.58*expm1( (preds1+preds2+preds3)/3))+(0.42*power(preds4,16))\n",
    "        \n",
    "        return preds"
   ]
  },
  {
   "cell_type": "code",
   "execution_count": 6,
   "metadata": {
    "collapsed": true
   },
   "outputs": [],
   "source": [
    "def definirModelo(num_procesos = -1):\n",
    "    seed(1989)\n",
    "    RMSLE_score = make_scorer(RMSLE, greater_is_better=False)\n",
    "    \n",
    "    imputador = Imputer()\n",
    "    escalador = StandardScaler()\n",
    "    #selectorVar = SelectKBest(k = 30)\n",
    "    decisor = XgboostRegressor()\n",
    "    puntuador = RMSLE_score\n",
    "    tuberia = Pipeline(steps = [('imputador', imputador), ('escalador', escalador),\n",
    "                                ('decisor', decisor)])\n",
    "    # Definicion de parametros a ajustar en gridsearch\n",
    "    parametros_tuberia = {'decisor__colsample_bytree' : [0.7, 0.6, 0.5, 0.4, 0.3, 0.2]}\n",
    "    # Instanciacion de rejilla\n",
    "    modelo = GridSearchCV(estimator = tuberia,\n",
    "                          param_grid = parametros_tuberia,\n",
    "                          scoring = puntuador,\n",
    "                          n_jobs = num_procesos)\n",
    "    # Ajuste de rejilla\n",
    "    return modelo"
   ]
  },
  {
   "cell_type": "markdown",
   "metadata": {},
   "source": [
    "# Ejecucion de rutina"
   ]
  }
 ],
 "metadata": {
  "kernelspec": {
   "display_name": "Python 2",
   "language": "python",
   "name": "python2"
  },
  "language_info": {
   "codemirror_mode": {
    "name": "ipython",
    "version": 2
   },
   "file_extension": ".py",
   "mimetype": "text/x-python",
   "name": "python",
   "nbconvert_exporter": "python",
   "pygments_lexer": "ipython2",
   "version": "2.7.10"
  }
 },
 "nbformat": 4,
 "nbformat_minor": 0
}
