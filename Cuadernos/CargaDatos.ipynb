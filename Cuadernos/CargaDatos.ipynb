{
 "cells": [
  {
   "cell_type": "markdown",
   "metadata": {},
   "source": [
    "# Configuracion"
   ]
  },
  {
   "cell_type": "markdown",
   "metadata": {},
   "source": [
    "### Carga de librerias"
   ]
  },
  {
   "cell_type": "code",
   "execution_count": 23,
   "metadata": {
    "collapsed": false
   },
   "outputs": [],
   "source": [
    "import numpy as np\n",
    "from pandas import read_excel, read_csv, merge\n",
    "from os.path import join\n",
    "from Metadatos import generaPathProyecto\n",
    "from Metadatos import buscarMasReciente"
   ]
  },
  {
   "cell_type": "markdown",
   "metadata": {},
   "source": [
    "### Definicion de funciones"
   ]
  },
  {
   "cell_type": "code",
   "execution_count": 2,
   "metadata": {
    "collapsed": true
   },
   "outputs": [],
   "source": [
    "def cargadatos(path_proyecto, nombre_archivo):\n",
    "    # path de los metadatos\n",
    "    path_metadatos = join(path_proyecto, 'Bases', 'Locales', nombre_archivo)\n",
    "    df = read_csv(filepath_or_buffer = path_metadatos)\n",
    "    return df\n",
    "\n",
    "\n",
    "def cargaSets(path_proyecto, nombre_set, indice = None):\n",
    "    path_set = join(path_proyecto, 'Bases', 'Locales')\n",
    "    nombreX = buscarMasReciente(path_set, nombre_set)\n",
    "    path_set = join(path_set, nombreX)\n",
    "    df = read_csv(filepath_or_buffer = path_set, index_col = indice)\n",
    "    return df"
   ]
  },
  {
   "cell_type": "code",
   "execution_count": 3,
   "metadata": {
    "collapsed": true
   },
   "outputs": [],
   "source": [
    "def generaPath(path_proyecto, nombre_archivo):\n",
    "    return join(path_proyecto, 'Bases', 'Locales', nombre_archivo)"
   ]
  },
  {
   "cell_type": "code",
   "execution_count": 24,
   "metadata": {
    "collapsed": true
   },
   "outputs": [],
   "source": [
    "def retornaSets(path_proyecto):\n",
    "    #train = cargadatos(path_proyecto, 'train_set.csv')\n",
    "    train = read_csv(filepath_or_buffer = generaPath(path_proyecto, 'train_set.csv'), #index_col = 0,\n",
    "                     true_values = ['Yes'], false_values = ['No'], parse_dates = ['quote_date'])\n",
    "    #test = cargadatos(path_proyecto, 'test_set.csv')\n",
    "    test = read_csv(filepath_or_buffer = generaPath(path_proyecto, 'test_set.csv'), index_col = 0,\n",
    "                     true_values = ['Yes'], false_values = ['No'], parse_dates = ['quote_date'])\n",
    "    #tube = cargadatos(path_proyecto, 'tube.csv')\n",
    "    tube = read_csv(filepath_or_buffer = generaPath(path_proyecto, 'tube.csv'), #index_col = 0,\n",
    "                    true_values = ['Y'], false_values = ['N'])\n",
    "    #bill = cargadatos(path_proyecto, 'bill_of_materials.csv')\n",
    "    bill = read_csv(filepath_or_buffer = generaPath(path_proyecto, 'bill_of_materials.csv'))#, index_col = 0)\n",
    "    #specs = cargadatos(path_proyecto, 'comp_threaded.csv')\n",
    "    specs = read_csv(filepath_or_buffer = generaPath(path_proyecto, 'comp_threaded.csv'))#, index_col = 0)\n",
    "\n",
    "    comp_adaptor = cargadatos(path_proyecto, 'comp_adaptor.csv')\n",
    "    comp_boss = cargadatos(path_proyecto, 'comp_boss.csv')\n",
    "    comp_elbow = cargadatos(path_proyecto, 'comp_elbow.csv')\n",
    "    comp_float = cargadatos(path_proyecto, 'comp_float.csv')\n",
    "    comp_hfl = cargadatos(path_proyecto, 'comp_hfl.csv')\n",
    "    comp_nut = cargadatos(path_proyecto, 'comp_nut.csv')\n",
    "    components = cargadatos(path_proyecto, 'components.csv')\n",
    "    comp_other = cargadatos(path_proyecto, 'comp_other.csv')\n",
    "    comp_sleeve = cargadatos(path_proyecto, 'comp_sleeve.csv')\n",
    "    comp_straight = cargadatos(path_proyecto, 'comp_straight.csv')\n",
    "    comp_tee = cargadatos(path_proyecto, 'comp_tee.csv')\n",
    "    comp_threaded = cargadatos(path_proyecto, 'comp_threaded.csv')\n",
    "    tube_end_form = cargadatos(path_proyecto, 'tube_end_form.csv')\n",
    "    type_component = cargadatos(path_proyecto, 'type_component.csv')\n",
    "    type_connection = cargadatos(path_proyecto, 'type_connection.csv')\n",
    "    type_end_form = cargadatos(path_proyecto, 'type_end_form.csv')\n",
    "    \n",
    "    return train, test, tube, bill, specs, comp_adaptor, comp_boss, comp_elbow,\n",
    "    comp_float, comp_hfl, comp_nut, comp_other, comp_sleeve, comp_straight,\n",
    "    comp_tee, comp_threaded, tube_end_form, type_component, type_connection,\n",
    "    type_end_form"
   ]
  },
  {
   "cell_type": "markdown",
   "metadata": {},
   "source": [
    "# Ejecucion de rutina"
   ]
  },
  {
   "cell_type": "markdown",
   "metadata": {},
   "source": [
    "train, test, tube, bill, specs, comp_adaptor, comp_boss, comp_elbow,\n",
    "comp_float, comp_hfl, comp_nut, comp_other, comp_sleeve, comp_straight,\n",
    "comp_tee, comp_threaded, tube_end_form, type_component, type_connection,\n",
    "type_end_form = retornaSets(path_proyecto)"
   ]
  },
  {
   "cell_type": "markdown",
   "metadata": {
    "collapsed": true
   },
   "source": [
    "from Metadatos import generaPathProyecto"
   ]
  },
  {
   "cell_type": "markdown",
   "metadata": {
    "collapsed": false
   },
   "source": [
    "path_proyecto = generaPathProyecto()"
   ]
  },
  {
   "cell_type": "markdown",
   "metadata": {
    "collapsed": false
   },
   "source": [
    "#train = cargadatos(path_proyecto, 'train_set.csv')\n",
    "train = read_csv(filepath_or_buffer = generaPath(path_proyecto, 'train_set.csv'), #index_col = 0,\n",
    "                 true_values = ['Yes'], false_values = ['No'], parse_dates = ['quote_date'])\n",
    "#test = cargadatos(path_proyecto, 'test_set.csv')\n",
    "test = read_csv(filepath_or_buffer = generaPath(path_proyecto, 'test_set.csv'), index_col = 0,\n",
    "                 true_values = ['Yes'], false_values = ['No'], parse_dates = ['quote_date'])\n",
    "#tube = cargadatos(path_proyecto, 'tube.csv')\n",
    "tube = read_csv(filepath_or_buffer = generaPath(path_proyecto, 'tube.csv'), #index_col = 0,\n",
    "                true_values = ['Y'], false_values = ['N'])\n",
    "#bill = cargadatos(path_proyecto, 'bill_of_materials.csv')\n",
    "bill = read_csv(filepath_or_buffer = generaPath(path_proyecto, 'bill_of_materials.csv'))#, index_col = 0)\n",
    "#specs = cargadatos(path_proyecto, 'comp_threaded.csv')\n",
    "specs = read_csv(filepath_or_buffer = generaPath(path_proyecto, 'comp_threaded.csv'))#, index_col = 0)\n",
    "\n",
    "comp_adaptor = cargadatos(path_proyecto, 'comp_adaptor.csv')\n",
    "comp_boss = cargadatos(path_proyecto, 'comp_boss.csv')\n",
    "comp_elbow = cargadatos(path_proyecto, 'comp_elbow.csv')\n",
    "comp_float = cargadatos(path_proyecto, 'comp_float.csv')\n",
    "comp_hfl = cargadatos(path_proyecto, 'comp_hfl.csv')\n",
    "comp_nut = cargadatos(path_proyecto, 'comp_nut.csv')\n",
    "components = cargadatos(path_proyecto, 'components.csv')\n",
    "comp_other = cargadatos(path_proyecto, 'comp_other.csv')\n",
    "comp_sleeve = cargadatos(path_proyecto, 'comp_sleeve.csv')\n",
    "comp_straight = cargadatos(path_proyecto, 'comp_straight.csv')\n",
    "comp_tee = cargadatos(path_proyecto, 'comp_tee.csv')\n",
    "comp_threaded = cargadatos(path_proyecto, 'comp_threaded.csv')\n",
    "tube_end_form = cargadatos(path_proyecto, 'tube_end_form.csv')\n",
    "type_component = cargadatos(path_proyecto, 'type_component.csv')\n",
    "type_connection = cargadatos(path_proyecto, 'type_connection.csv')\n",
    "type_end_form = cargadatos(path_proyecto, 'type_end_form.csv')"
   ]
  },
  {
   "cell_type": "markdown",
   "metadata": {},
   "source": [
    "train.columns"
   ]
  },
  {
   "cell_type": "markdown",
   "metadata": {},
   "source": [
    "bill.columns"
   ]
  },
  {
   "cell_type": "markdown",
   "metadata": {},
   "source": [
    "tube.columns"
   ]
  },
  {
   "cell_type": "markdown",
   "metadata": {},
   "source": [
    "import pandas as pd"
   ]
  },
  {
   "cell_type": "markdown",
   "metadata": {},
   "source": [
    "def fase1(df):\n",
    "    col_llave = 'tube_assembly_id'\n",
    "    df_unido = pd.merge(left = df, right = bill, right_on = col_llave, left_on = col_llave)\n",
    "    return df_unido\n",
    "\n",
    "def fase2(df):\n",
    "    col_llave = 'tube_assembly_id'\n",
    "    df_unido = pd.merge(left = df, right = tube, right_on = col_llave, left_on = col_llave)\n",
    "    return df_unido"
   ]
  },
  {
   "cell_type": "markdown",
   "metadata": {},
   "source": [
    "fase2(fase1(train))"
   ]
  },
  {
   "cell_type": "markdown",
   "metadata": {
    "collapsed": false
   },
   "source": [
    "type_end_form.head(4)"
   ]
  },
  {
   "cell_type": "markdown",
   "metadata": {
    "collapsed": true
   },
   "source": [
    "total = set()\n",
    "for i in range(1, 9):\n",
    "    total = total.union(set(bill.ix[:, 'component_id_%d' % i]))"
   ]
  },
  {
   "cell_type": "markdown",
   "metadata": {
    "collapsed": false
   },
   "source": [
    "comp_adaptor.columns"
   ]
  },
  {
   "cell_type": "markdown",
   "metadata": {
    "collapsed": false
   },
   "source": [
    "comp_boss.columns"
   ]
  },
  {
   "cell_type": "markdown",
   "metadata": {
    "collapsed": false
   },
   "source": [
    "comp_float.columns"
   ]
  },
  {
   "cell_type": "markdown",
   "metadata": {
    "collapsed": false
   },
   "source": [
    "type_connection.shape"
   ]
  },
  {
   "cell_type": "markdown",
   "metadata": {
    "collapsed": false
   },
   "source": [
    "len(comp_adaptor.component_id.unique()) +\\\n",
    "len(comp_boss.component_id.unique()) +\\\n",
    "len(comp_elbow.component_id.unique()) +\\\n",
    "len(comp_float.component_id.unique()) +\\\n",
    "len(comp_hfl.component_id.unique()) +\\\n",
    "len(comp_nut.component_id.unique()) +\\\n",
    "len(comp_other.component_id.unique()) +\\\n",
    "len(comp_sleeve.component_id.unique()) +\\\n",
    "len(comp_straight.component_id.unique()) +\\\n",
    "len(comp_tee.component_id.unique()) +\\\n",
    "len(comp_threaded.component_id.unique())"
   ]
  },
  {
   "cell_type": "markdown",
   "metadata": {
    "collapsed": false
   },
   "source": [
    "import pandas as pd"
   ]
  },
  {
   "cell_type": "markdown",
   "metadata": {
    "collapsed": false
   },
   "source": [
    "pd.merge(left = train, right = bill, how = 'left', left_on = 'tube_assembly_id', right_on = 'tube_assembly_id').columns"
   ]
  },
  {
   "cell_type": "markdown",
   "metadata": {
    "collapsed": true
   },
   "source": [
    "if __name__ == '__main__':\n",
    "    tube = pd.read_csv('../input/tube.csv',\n",
    "                       index_col=0,\n",
    "                       true_values=['Y'],\n",
    "                       false_values=['N'])\n",
    "\n",
    "    materials = pd.read_csv('../input/bill_of_materials.csv', index_col=0)\n",
    "    specs = pd.read_csv('../input/specs.csv', index_col=0)\n",
    "\n",
    "    for idx in tube.index:\n",
    "        if tube.ix[idx, 'material_id'] is not np.nan:\n",
    "            tube.ix[idx, tube.ix[idx, 'material_id']] = 1\n",
    "        for i in range(1, 11):\n",
    "            if i < 9 and materials.ix[idx, 'component_id_%d' % i] is not np.nan:\n",
    "                tube.ix[idx, materials.ix[idx, 'component_id_%d' % i]] = \\\n",
    "                    materials.ix[idx, 'quantity_%d' % i]\n",
    "            if specs.ix[idx, 'spec%d' % i] is not np.nan:\n",
    "                tube.ix[idx, specs.ix[idx, 'spec%d' % i]] = 1\n",
    "    tube.drop('material_id', inplace=True, axis=1)\n",
    "    tube.fillna(0, inplace=True)\n",
    "    tube.to_csv('tube_extended.csv')"
   ]
  }
 ],
 "metadata": {
  "kernelspec": {
   "display_name": "Python 2",
   "language": "python",
   "name": "python2"
  },
  "language_info": {
   "codemirror_mode": {
    "name": "ipython",
    "version": 2
   },
   "file_extension": ".py",
   "mimetype": "text/x-python",
   "name": "python",
   "nbconvert_exporter": "python",
   "pygments_lexer": "ipython2",
   "version": "2.7.10"
  }
 },
 "nbformat": 4,
 "nbformat_minor": 0
}
