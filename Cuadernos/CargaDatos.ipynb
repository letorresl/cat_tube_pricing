{
 "cells": [
  {
   "cell_type": "markdown",
   "metadata": {},
   "source": [
    "# Configuracion"
   ]
  },
  {
   "cell_type": "markdown",
   "metadata": {},
   "source": [
    "### Carga de librerias"
   ]
  },
  {
   "cell_type": "code",
   "execution_count": null,
   "metadata": {
    "collapsed": true
   },
   "outputs": [],
   "source": [
    "import numpy as np\n",
    "from pandas import read_excel, read_csv, merge\n",
    "from os.path import join\n",
    "from Metadatos import generaPathProyecto\n",
    "from Metadatos import buscarMasReciente"
   ]
  },
  {
   "cell_type": "markdown",
   "metadata": {},
   "source": [
    "### Definicion de funciones"
   ]
  },
  {
   "cell_type": "code",
   "execution_count": null,
   "metadata": {
    "collapsed": true
   },
   "outputs": [],
   "source": [
    "def cargadatos(path_proyecto, nombre_archivo):\n",
    "    # path de los metadatos\n",
    "    path_metadatos = join(path_proyecto, 'Bases', 'Locales', nombre_archivo)\n",
    "    df = read_csv(filepath_or_buffer = path_metadatos)\n",
    "    return df\n",
    "\n",
    "\n",
    "def cargaSets(path_proyecto, nombre_set, indice = None):\n",
    "    path_set = join(path_proyecto, 'Bases', 'Locales')\n",
    "    nombreX = buscarMasReciente(path_set, nombre_set)\n",
    "    path_set = join(path_set, nombreX)\n",
    "    df = read_csv(filepath_or_buffer = path_set, index_col = indice)\n",
    "    return df"
   ]
  },
  {
   "cell_type": "code",
   "execution_count": 1,
   "metadata": {
    "collapsed": true
   },
   "outputs": [],
   "source": [
    "def generaPath(path, nombre_archivo):\n",
    "    path_unido = join(path, 'Bases', 'Locales', nombre_archivo)\n",
    "    return path_unido"
   ]
  },
  {
   "cell_type": "code",
   "execution_count": null,
   "metadata": {
    "collapsed": true
   },
   "outputs": [],
   "source": [
    "def retornaSets(path_proyecto):\n",
    "    #train = cargadatos(path_proyecto, 'train_set.csv')\n",
    "    train = read_csv(filepath_or_buffer = generaPath(path_proyecto, 'train_set.csv'), #index_col = 0,\n",
    "                     true_values = ['Yes'], false_values = ['No'], parse_dates = ['quote_date'])\n",
    "    #test = cargadatos(path_proyecto, 'test_set.csv')\n",
    "    test = read_csv(filepath_or_buffer = generaPath(path_proyecto, 'test_set.csv'), index_col = 0,\n",
    "                     true_values = ['Yes'], false_values = ['No'], parse_dates = ['quote_date'])\n",
    "    #tube = cargadatos(path_proyecto, 'tube.csv')\n",
    "    tube = read_csv(filepath_or_buffer = generaPath(path_proyecto, 'tube.csv'), #index_col = 0,\n",
    "                    true_values = ['Y'], false_values = ['N'])\n",
    "    #bill = cargadatos(path_proyecto, 'bill_of_materials.csv')\n",
    "    bill = read_csv(filepath_or_buffer = generaPath(path_proyecto, 'bill_of_materials.csv'))#, index_col = 0)\n",
    "    #specs = cargadatos(path_proyecto, 'comp_threaded.csv')\n",
    "    specs = read_csv(filepath_or_buffer = generaPath(path_proyecto, 'comp_threaded.csv'))#, index_col = 0)\n",
    "\n",
    "    components = cargadatos(path_proyecto, 'components.csv')\n",
    "    comp_adaptor = cargadatos(path_proyecto, 'comp_adaptor.csv')\n",
    "    comp_boss = cargadatos(path_proyecto, 'comp_boss.csv')\n",
    "    comp_elbow = cargadatos(path_proyecto, 'comp_elbow.csv')\n",
    "    comp_float = cargadatos(path_proyecto, 'comp_float.csv')\n",
    "    comp_hfl = cargadatos(path_proyecto, 'comp_hfl.csv')\n",
    "    comp_nut = cargadatos(path_proyecto, 'comp_nut.csv')\n",
    "    components = cargadatos(path_proyecto, 'components.csv')\n",
    "    comp_other = cargadatos(path_proyecto, 'comp_other.csv')\n",
    "    comp_sleeve = cargadatos(path_proyecto, 'comp_sleeve.csv')\n",
    "    comp_straight = cargadatos(path_proyecto, 'comp_straight.csv')\n",
    "    comp_tee = cargadatos(path_proyecto, 'comp_tee.csv')\n",
    "    comp_threaded = cargadatos(path_proyecto, 'comp_threaded.csv')\n",
    "    tube_end_form = cargadatos(path_proyecto, 'tube_end_form.csv')\n",
    "    type_component = cargadatos(path_proyecto, 'type_component.csv')\n",
    "    type_connection = cargadatos(path_proyecto, 'type_connection.csv')\n",
    "    type_end_form = cargadatos(path_proyecto, 'type_end_form.csv')\n",
    "    \n",
    "    diccionario = {'train' : train, 'test' : test, 'tube' : tube, 'bill' : bill, 'specs' : specs,\n",
    "                  'comp_adaptor' : comp_adaptor, 'comp_boss' : comp_boss, 'comp_elbow' : comp_elbow,\n",
    "                  'comp_float' : comp_float, 'comp_hfl' : comp_hfl, 'comp_other' : comp_other,\n",
    "                  'comp_sleeve' : comp_sleeve, 'comp_straight' : comp_straight, 'comp_straight' : comp_straight,\n",
    "                  'comp_tee' : comp_tee, 'comp_threaded' : comp_threaded, 'tube_end_form' : tube_end_form,\n",
    "                  'type_component' : type_component, 'type_connection' : type_connection,\n",
    "                  'type_end_form' : type_end_form, 'components' : components}\n",
    "    \n",
    "    return diccionario"
   ]
  },
  {
   "cell_type": "markdown",
   "metadata": {},
   "source": [
    "# Ejecucion de rutina"
   ]
  }
 ],
 "metadata": {
  "kernelspec": {
   "display_name": "Python 2",
   "language": "python",
   "name": "python2"
  },
  "language_info": {
   "codemirror_mode": {
    "name": "ipython",
    "version": 2
   },
   "file_extension": ".py",
   "mimetype": "text/x-python",
   "name": "python",
   "nbconvert_exporter": "python",
   "pygments_lexer": "ipython2",
   "version": "2.7.10"
  }
 },
 "nbformat": 4,
 "nbformat_minor": 0
}
