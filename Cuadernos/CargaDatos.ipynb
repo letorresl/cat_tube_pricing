{
 "cells": [
  {
   "cell_type": "markdown",
   "metadata": {},
   "source": [
    "# Configuracion"
   ]
  },
  {
   "cell_type": "markdown",
   "metadata": {},
   "source": [
    "### Carga de librerias"
   ]
  },
  {
   "cell_type": "code",
   "execution_count": null,
   "metadata": {
    "collapsed": true
   },
   "outputs": [],
   "source": [
    "import numpy as np\n",
    "from pandas import read_excel, read_csv, merge\n",
    "from os.path import join\n",
    "from Metadatos import generaPathProyecto\n",
    "from Metadatos import buscarMasReciente"
   ]
  },
  {
   "cell_type": "markdown",
   "metadata": {},
   "source": [
    "### Definicion de funciones"
   ]
  },
  {
   "cell_type": "code",
   "execution_count": null,
   "metadata": {
    "collapsed": true
   },
   "outputs": [],
   "source": [
    "def cargadatos(path_proyecto, nombre_archivo):\n",
    "    # path de los metadatos\n",
    "    path_metadatos = join(path_proyecto, 'Bases', 'Locales', nombre_archivo)\n",
    "    df = read_csv(filepath_or_buffer = path_metadatos)\n",
    "    return df\n",
    "\n",
    "\n",
    "def cargaSets(path_proyecto, nombre_set, indice = None):\n",
    "    path_set = join(path_proyecto, 'Bases', 'Locales')\n",
    "    nombreX = buscarMasReciente(path_set, nombre_set)\n",
    "    path_set = join(path_set, nombreX)\n",
    "    df = read_csv(filepath_or_buffer = path_set, index_col = indice)\n",
    "    return df"
   ]
  },
  {
   "cell_type": "code",
   "execution_count": 1,
   "metadata": {
    "collapsed": true
   },
   "outputs": [],
   "source": [
    "def generaPath(path, nombre_archivo):\n",
    "    path_unido = join(path, 'Bases', 'Locales', nombre_archivo)\n",
    "    return path_unido"
   ]
  },
  {
   "cell_type": "code",
   "execution_count": null,
   "metadata": {
    "collapsed": true
   },
   "outputs": [],
   "source": [
    "def retornaSets(path_proyecto):\n",
    "    #train = cargadatos(path_proyecto, 'train_set.csv')\n",
    "    train = read_csv(filepath_or_buffer = generaPath(path_proyecto, 'train_set.csv'), #index_col = 0,\n",
    "                     true_values = ['Yes'], false_values = ['No'], parse_dates = ['quote_date'])\n",
    "    #test = cargadatos(path_proyecto, 'test_set.csv')\n",
    "    test = read_csv(filepath_or_buffer = generaPath(path_proyecto, 'test_set.csv'), index_col = 0,\n",
    "                     true_values = ['Yes'], false_values = ['No'], parse_dates = ['quote_date'])\n",
    "    #tube = cargadatos(path_proyecto, 'tube.csv')\n",
    "    tube = read_csv(filepath_or_buffer = generaPath(path_proyecto, 'tube.csv'), #index_col = 0,\n",
    "                    true_values = ['Y'], false_values = ['N'])\n",
    "    #bill = cargadatos(path_proyecto, 'bill_of_materials.csv')\n",
    "    bill = read_csv(filepath_or_buffer = generaPath(path_proyecto, 'bill_of_materials.csv'))#, index_col = 0)\n",
    "    #specs = cargadatos(path_proyecto, 'comp_threaded.csv')\n",
    "    specs = read_csv(filepath_or_buffer = generaPath(path_proyecto, 'comp_threaded.csv'))#, index_col = 0)\n",
    "\n",
    "    components = cargadatos(path_proyecto, 'components.csv')\n",
    "    comp_adaptor = cargadatos(path_proyecto, 'comp_adaptor.csv')\n",
    "    comp_boss = cargadatos(path_proyecto, 'comp_boss.csv')\n",
    "    comp_elbow = cargadatos(path_proyecto, 'comp_elbow.csv')\n",
    "    comp_float = cargadatos(path_proyecto, 'comp_float.csv')\n",
    "    comp_hfl = cargadatos(path_proyecto, 'comp_hfl.csv')\n",
    "    comp_nut = cargadatos(path_proyecto, 'comp_nut.csv')\n",
    "    components = cargadatos(path_proyecto, 'components.csv')\n",
    "    comp_other = cargadatos(path_proyecto, 'comp_other.csv')\n",
    "    comp_sleeve = cargadatos(path_proyecto, 'comp_sleeve.csv')\n",
    "    comp_straight = cargadatos(path_proyecto, 'comp_straight.csv')\n",
    "    comp_tee = cargadatos(path_proyecto, 'comp_tee.csv')\n",
    "    comp_threaded = cargadatos(path_proyecto, 'comp_threaded.csv')\n",
    "    tube_end_form = cargadatos(path_proyecto, 'tube_end_form.csv')\n",
    "    type_component = cargadatos(path_proyecto, 'type_component.csv')\n",
    "    type_connection = cargadatos(path_proyecto, 'type_connection.csv')\n",
    "    type_end_form = cargadatos(path_proyecto, 'type_end_form.csv')\n",
    "    \n",
    "    diccionario = {'train' : train, 'test' : test, 'tube' : tube, 'bill' : bill, 'specs' : specs,\n",
    "                  'comp_adaptor' : comp_adaptor, 'comp_boss' : comp_boss, 'comp_elbow' : comp_elbow,\n",
    "                  'comp_float' : comp_float, 'comp_hfl' : comp_hfl, 'comp_other' : comp_other,\n",
    "                  'comp_sleeve' : comp_sleeve, 'comp_straight' : comp_straight, 'comp_straight' : comp_straight,\n",
    "                  'comp_tee' : comp_tee, 'comp_threaded' : comp_threaded, 'tube_end_form' : tube_end_form,\n",
    "                  'type_component' : type_component, 'type_connection' : type_connection,\n",
    "                  'type_end_form' : type_end_form, 'components' : components}\n",
    "    \n",
    "    return diccionario"
   ]
  },
  {
   "cell_type": "code",
   "execution_count": 1,
   "metadata": {
    "collapsed": false
   },
   "outputs": [
    {
     "name": "stdout",
     "output_type": "stream",
     "text": [
      "total 7.8M\r\n",
      "drwxrwxr-x 2 profeta profeta 4.0K jul  8 23:42 .\r\n",
      "drwxr-xr-x 8 profeta profeta 4.0K jul  7 21:13 ..\r\n",
      "-rw-r--r-- 1 profeta profeta 1.3M jun 24 16:21 bill_of_materials.csv\r\n",
      "-rw-r--r-- 1 profeta profeta 2.5K jun 24 16:21 comp_adaptor.csv\r\n",
      "-rw-r--r-- 1 profeta profeta  11K jun 24 16:21 comp_boss.csv\r\n",
      "-rw-r--r-- 1 profeta profeta  13K jun 24 16:21 comp_elbow.csv\r\n",
      "-rw-r--r-- 1 profeta profeta  703 jun 24 16:21 comp_float.csv\r\n",
      "-rw-r--r-- 1 profeta profeta  438 jun 24 16:21 comp_hfl.csv\r\n",
      "-rw-r--r-- 1 profeta profeta 3.3K jun 24 16:21 comp_nut.csv\r\n",
      "-rw-r--r-- 1 profeta profeta  46K jun 29 21:02 components.csv\r\n",
      "-rw-r--r-- 1 profeta profeta  21K jun 29 21:05 comp_other.csv\r\n",
      "-rw-r--r-- 1 profeta profeta 2.6K jun 24 16:21 comp_sleeve.csv\r\n",
      "-rw-r--r-- 1 profeta profeta  20K jun 24 16:21 comp_straight.csv\r\n",
      "-rw-r--r-- 1 profeta profeta  483 jun 24 16:21 comp_tee.csv\r\n",
      "-rw-r--r-- 1 profeta profeta  25K jun 24 16:21 comp_threaded.csv\r\n",
      "-rw-r----- 1 profeta profeta 794K jul  6 20:33 data.zip\r\n",
      "-rw-r----- 1 profeta profeta 226K jul  6 20:34 sample_submission.csv\r\n",
      "-rw-r--r-- 1 profeta profeta 953K jun 24 16:21 specs.csv\r\n",
      "-rw-r--r-- 1 profeta profeta 1.3M jun 24 16:21 test_set.csv\r\n",
      "-rw-r--r-- 1 profeta profeta 1.6M jun 24 16:21 train_set.csv\r\n",
      "-rw-r--r-- 1 profeta profeta 1.4M jun 24 16:21 tube.csv\r\n",
      "-rw-r----- 1 profeta profeta  302 jun 29 09:12 tube_end_form.csv\r\n",
      "-rw-r--r-- 1 profeta profeta  743 jun 24 16:21 type_component.csv\r\n",
      "-rw-r--r-- 1 profeta profeta  331 jun 24 16:21 type_connection.csv\r\n",
      "-rw-r--r-- 1 profeta profeta  160 jun 24 16:21 type_end_form.csv\r\n"
     ]
    }
   ],
   "source": [
    "!ls -lha ../Bases/Locales/"
   ]
  },
  {
   "cell_type": "markdown",
   "metadata": {},
   "source": [
    "# Ejecucion de rutina"
   ]
  }
 ],
 "metadata": {
  "kernelspec": {
   "display_name": "Python 2",
   "language": "python",
   "name": "python2"
  },
  "language_info": {
   "codemirror_mode": {
    "name": "ipython",
    "version": 2
   },
   "file_extension": ".py",
   "mimetype": "text/x-python",
   "name": "python",
   "nbconvert_exporter": "python",
   "pygments_lexer": "ipython2",
   "version": "2.7.10"
  }
 },
 "nbformat": 4,
 "nbformat_minor": 0
}
