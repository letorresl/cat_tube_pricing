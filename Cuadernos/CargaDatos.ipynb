{
 "cells": [
  {
   "cell_type": "markdown",
   "metadata": {},
   "source": [
    "# Configuracion"
   ]
  },
  {
   "cell_type": "markdown",
   "metadata": {},
   "source": [
    "### Carga de librerias"
   ]
  },
  {
   "cell_type": "code",
   "execution_count": null,
   "metadata": {
    "collapsed": true
   },
   "outputs": [],
   "source": [
    "import numpy as np\n",
    "from pandas import read_excel, read_csv\n",
    "from os.path import join\n",
    "from MetaDatos import generaPathProyecto\n",
    "from MetaDatos import buscarMasReciente"
   ]
  },
  {
   "cell_type": "markdown",
   "metadata": {},
   "source": [
    "### Definicion de funciones"
   ]
  },
  {
   "cell_type": "code",
   "execution_count": null,
   "metadata": {
    "collapsed": true
   },
   "outputs": [],
   "source": [
    "def cargaMetadatos(path_proyecto):\n",
    "    # path de los metadatos\n",
    "    path_metadatos = join(path_proyecto, 'Bases', 'Locales', 'metaData_taxistandsID_name_GPSlocation.csv')\n",
    "    df = read_csv(filepath_or_buffer = path_metadatos)\n",
    "    return df\n",
    "\n",
    "def cargaTrain(path_proyecto):\n",
    "    # path de entrenamiento\n",
    "    path_train = join(path_proyecto, 'Bases', 'Locales', 'train.csv.gz')\n",
    "    df = read_csv(filepath_or_buffer = path_train, compression = 'gzip')\n",
    "    return df\n",
    "\n",
    "def cargaEnvio(path_proyecto):\n",
    "    # path de entrenamiento\n",
    "    path_envio = join(path_proyecto, 'Bases', 'Locales', 'test.csv.gz')\n",
    "    df = read_csv(filepath_or_buffer = path_envio, compression = 'gzip')\n",
    "    return df\n",
    "\n",
    "def cargaSets(path_proyecto, nombre_set, indice = None):\n",
    "    path_set = join(path_proyecto, 'Bases', 'Locales')\n",
    "    nombreX = buscarMasReciente(path_set, nombre_set)\n",
    "    path_set = join(path_set, nombreX)\n",
    "    df = read_csv(filepath_or_buffer = path_set, index_col = indice)\n",
    "    return df"
   ]
  },
  {
   "cell_type": "markdown",
   "metadata": {},
   "source": [
    "# Ejecucion de rutina"
   ]
  }
 ],
 "metadata": {
  "kernelspec": {
   "display_name": "Python 2",
   "language": "python",
   "name": "python2"
  },
  "language_info": {
   "codemirror_mode": {
    "name": "ipython",
    "version": 2
   },
   "file_extension": ".py",
   "mimetype": "text/x-python",
   "name": "python",
   "nbconvert_exporter": "python",
   "pygments_lexer": "ipython2",
   "version": "2.7.10"
  }
 },
 "nbformat": 4,
 "nbformat_minor": 0
}
